{
 "cells": [
  {
   "cell_type": "markdown",
   "metadata": {},
   "source": [
    "### How to get rid of explicit for loops using vectorization?\n",
    "In the deep learning era, you often find yourself training on large datasets because that's when deep learning tends to shine! Therefore, it is important that your code runs fast. Trying always to replace explicit for loops with vectorization techniques creates more efficient code, and the training procedure will be faster. This could be the difference in training your model in 1 minute, 1 hour, or 1 week! \n",
    "\n",
    "Below I show an example of creating two large arrays then taking the dot product between them using a (1) non-vectorized version (e.g. for loop) and (2) vectorized version (e.g. np.dot). You can clearly see that the vectorized technique is ~538 times faster than the non-vectorized."
   ]
  },
  {
   "cell_type": "code",
   "execution_count": 4,
   "metadata": {},
   "outputs": [
    {
     "name": "stdout",
     "output_type": "stream",
     "text": [
      "Answer for non-vectorized: -213.80165018911737\n",
      "Time for non-vectorized: 379.7209ms\n",
      "Answer for vectorized approach: -213.80165018911362\n",
      "Time for vectorized approach: 0.7048ms\n"
     ]
    }
   ],
   "source": [
    "import numpy as np\n",
    "import time\n",
    "\n",
    "n = 1000000\n",
    "a = np.random.randn(n)\n",
    "b = np.random.randn(n)\n",
    "\n",
    "\"\"\"non-vectorized\"\"\"\n",
    "c = 0\n",
    "tic = time.time()\n",
    "for i in range(len(a)):\n",
    "    c += a[i]*b[i]\n",
    "toc = time.time()\n",
    "print('Answer for non-vectorized:', c)\n",
    "print('Time for non-vectorized: ', str(round(1000*(toc-tic),4)), 'ms', sep='')\n",
    "\n",
    "\"\"\"vectorized\"\"\"\n",
    "tic = time.time()\n",
    "c = np.dot(a,b)\n",
    "toc = time.time()\n",
    "print('Answer for vectorized approach:', c)\n",
    "print('Time for vectorized approach: ', str(round(1000*(toc-tic),4)), 'ms', sep='')"
   ]
  }
 ],
 "metadata": {
  "kernelspec": {
   "display_name": "Python 3",
   "language": "python",
   "name": "python3"
  },
  "language_info": {
   "codemirror_mode": {
    "name": "ipython",
    "version": 3
   },
   "file_extension": ".py",
   "mimetype": "text/x-python",
   "name": "python",
   "nbconvert_exporter": "python",
   "pygments_lexer": "ipython3",
   "version": "3.6.8"
  }
 },
 "nbformat": 4,
 "nbformat_minor": 2
}
