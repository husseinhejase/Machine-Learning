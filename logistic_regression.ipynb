{
 "cells": [
  {
   "cell_type": "code",
   "execution_count": 1,
   "metadata": {
    "collapsed": true
   },
   "outputs": [],
   "source": [
    "import numpy as np\n",
    "from sklearn.datasets import load_breast_cancer\n",
    "from sklearn.model_selection import train_test_split\n",
    "from sklearn.metrics import confusion_matrix\n",
    "\n",
    "def sigmoid(Z):\n",
    "    return 1 / (1+np.exp(-Z))    "
   ]
  },
  {
   "cell_type": "code",
   "execution_count": 2,
   "metadata": {
    "collapsed": true
   },
   "outputs": [],
   "source": [
    "dataset = load_breast_cancer()\n",
    "X = dataset.data\n",
    "Y = dataset.target\n",
    "nx = np.shape(dataset.data)[1]\n",
    "m = len(dataset.target)\n",
    "trainX, testX, trainY, testY = train_test_split(X, Y, test_size=0.2)\n",
    "trainX = trainX.T\n",
    "testX = testX.T\n",
    "trainY = trainY.reshape((1, len(trainY)))\n",
    "testY = testY.reshape((1, len(testY)))"
   ]
  },
  {
   "cell_type": "code",
   "execution_count": 3,
   "metadata": {},
   "outputs": [
    {
     "name": "stdout",
     "output_type": "stream",
     "text": [
      "Shape of trainX: (30, 455)\n",
      "Shape of testX: (30, 114)\n",
      "Shape of trainY: (1, 455)\n",
      "Shape of testY: (1, 114)\n",
      "Number of features: 30\n"
     ]
    }
   ],
   "source": [
    "print(\"Shape of trainX:\", np.shape(trainX))\n",
    "print(\"Shape of testX:\", np.shape(testX))\n",
    "print(\"Shape of trainY:\", np.shape(trainY))\n",
    "print(\"Shape of testY:\", np.shape(testY))\n",
    "print(\"Number of features:\", nx)"
   ]
  },
  {
   "cell_type": "code",
   "execution_count": 4,
   "metadata": {},
   "outputs": [
    {
     "name": "stdout",
     "output_type": "stream",
     "text": [
      "Shape of w: (30, 1)\n",
      "Shape of b: (1, 1)\n"
     ]
    }
   ],
   "source": [
    "#Hyperparameters\n",
    "nepochs = 10\n",
    "alpha = 0.001\n",
    "\n",
    "#Initialize weights and intercept\n",
    "w = np.zeros((nx,1))\n",
    "b = np.zeros((1,1))\n",
    "print(\"Shape of w:\", np.shape(w))\n",
    "print(\"Shape of b:\", np.shape(b))\n",
    "\n",
    "#Standardize features\n",
    "mu = np.mean(trainX, axis=1)\n",
    "sd = np.std(trainX, axis=1)\n",
    "mu = mu.reshape((len(mu), 1))\n",
    "sd = sd.reshape((len(sd), 1))\n",
    "trainX = (trainX - mu) / sd\n",
    "testX = (testX - mu) / sd\n",
    "\n",
    "#logistic regression\n",
    "for step in range(nepochs): \n",
    "    #Forward propagation\n",
    "    Z = np.dot(w.T, trainX) + b\n",
    "    A = sigmoid(Z)\n",
    "    \n",
    "    #Backward propagation\n",
    "    dZ = A - trainY\n",
    "    dw = 1/m * np.dot(trainX, dZ.T)\n",
    "    db = 1/m * np.sum(dZ)\n",
    "    \n",
    "    #Update weights and intercept\n",
    "    w = w - alpha * dw\n",
    "    b = b - alpha * db"
   ]
  },
  {
   "cell_type": "code",
   "execution_count": 5,
   "metadata": {},
   "outputs": [
    {
     "name": "stdout",
     "output_type": "stream",
     "text": [
      "Confusion matrix:\n",
      " [[32  6]\n",
      " [ 4 72]]\n",
      "Accuracy: 0.9122807017543859\n"
     ]
    }
   ],
   "source": [
    "Z = np.dot(w.T, testX) + b\n",
    "pred = sigmoid(Z)\n",
    "positive_index = pred>0.5\n",
    "negative_index = pred<=0.5\n",
    "pred[positive_index] = 1\n",
    "pred[negative_index] = 0\n",
    "pred = pred.astype(int)\n",
    "print(\"Confusion matrix:\\n\", confusion_matrix(pred[0], testY[0]))\n",
    "acc = (confusion_matrix(pred[0], testY[0])[0,0] + confusion_matrix(pred[0], testY[0])[1,1]) / len(pred[0])\n",
    "print(\"Accuracy:\", acc)"
   ]
  }
 ],
 "metadata": {
  "kernelspec": {
   "display_name": "Python 3",
   "language": "python",
   "name": "python3"
  },
  "language_info": {
   "codemirror_mode": {
    "name": "ipython",
    "version": 3
   },
   "file_extension": ".py",
   "mimetype": "text/x-python",
   "name": "python",
   "nbconvert_exporter": "python",
   "pygments_lexer": "ipython3",
   "version": "3.6.8"
  }
 },
 "nbformat": 4,
 "nbformat_minor": 2
}
