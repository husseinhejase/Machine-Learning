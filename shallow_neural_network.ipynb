{
 "cells": [
  {
   "cell_type": "code",
   "execution_count": 1,
   "metadata": {
    "collapsed": true
   },
   "outputs": [],
   "source": [
    "import numpy as np\n",
    "from sklearn.datasets import load_breast_cancer\n",
    "from sklearn.model_selection import train_test_split\n",
    "from sklearn.metrics import confusion_matrix\n",
    "\n",
    "def sigmoid(Z):\n",
    "    return 1 / (1+np.exp(-Z))"
   ]
  },
  {
   "cell_type": "code",
   "execution_count": 2,
   "metadata": {
    "collapsed": true
   },
   "outputs": [],
   "source": [
    "dataset = load_breast_cancer()\n",
    "X = dataset.data\n",
    "Y = dataset.target\n",
    "nx = np.shape(dataset.data)[1]\n",
    "m = len(dataset.target)\n",
    "trainX, testX, trainY, testY = train_test_split(X, Y, test_size=0.2)\n",
    "trainX = trainX.T\n",
    "testX = testX.T\n",
    "trainY = trainY.reshape((1, len(trainY)))\n",
    "testY = testY.reshape((1, len(testY)))"
   ]
  },
  {
   "cell_type": "code",
   "execution_count": 3,
   "metadata": {},
   "outputs": [
    {
     "name": "stdout",
     "output_type": "stream",
     "text": [
      "Shape of trainX: (30, 455)\n",
      "Shape of testX: (30, 114)\n",
      "Shape of trainY: (1, 455)\n",
      "Shape of testY: (1, 114)\n",
      "Number of features: 30\n"
     ]
    }
   ],
   "source": [
    "print(\"Shape of trainX:\", np.shape(trainX))\n",
    "print(\"Shape of testX:\", np.shape(testX))\n",
    "print(\"Shape of trainY:\", np.shape(trainY))\n",
    "print(\"Shape of testY:\", np.shape(testY))\n",
    "print(\"Number of features:\", nx)"
   ]
  },
  {
   "cell_type": "code",
   "execution_count": 4,
   "metadata": {},
   "outputs": [
    {
     "name": "stdout",
     "output_type": "stream",
     "text": [
      "Shape of W1: (10, 30)\n",
      "Shape of b1: (10, 1)\n",
      "Shape of W2: (1, 10)\n",
      "Shape of b2: (1, 1)\n"
     ]
    }
   ],
   "source": [
    "#Standardize features\n",
    "mu = np.mean(trainX, axis=1)\n",
    "sd = np.std(trainX, axis=1)\n",
    "mu = mu.reshape((len(mu), 1))\n",
    "sd = sd.reshape((len(sd), 1))\n",
    "trainX = (trainX - mu) / sd\n",
    "testX = (testX - mu) / sd\n",
    "\n",
    "#Hyperparameters (# of iterations, learning rate, & # of hidden nodes)\n",
    "nepochs = 1000\n",
    "alpha = 0.1\n",
    "num_hidden_nodes = 10\n",
    "\n",
    "#Initialize weights and intercept\n",
    "W1 = np.random.random((num_hidden_nodes,nx))*0.1\n",
    "b1 = np.zeros((num_hidden_nodes,1))\n",
    "W2 = np.random.random((1,num_hidden_nodes))*0.1\n",
    "b2 = np.zeros((1,1))\n",
    "print(\"Shape of W1:\", np.shape(W1))\n",
    "print(\"Shape of b1:\", np.shape(b1))\n",
    "print(\"Shape of W2:\", np.shape(W2))\n",
    "print(\"Shape of b2:\", np.shape(b2))\n",
    "\n",
    "#2-layer NN (shallow neural network)\n",
    "for step in range(nepochs): \n",
    "    #Forward propagation\n",
    "    Z1 = np.dot(W1, trainX) + b1\n",
    "    A1 = sigmoid(Z1)\n",
    "    Z2 = np.dot(W2, A1) + b2\n",
    "    A2 = sigmoid(Z2)\n",
    "    \n",
    "    #Backward propagation\n",
    "    dZ2 = A2 - trainY\n",
    "    dW2 = 1/m * np.dot(dZ2, A1.T)\n",
    "    db2 = 1/m * np.sum(dZ2, axis=1, keepdims=True)\n",
    "    dZ1 = np.dot(W2.T,dZ2)*(A1*(1-A1))\n",
    "    dW1 = 1/m * np.dot(dZ1, trainX.T)\n",
    "    db1 = 1/m * np.sum(dZ1, axis=1, keepdims=True)\n",
    "    \n",
    "    #Update parameters W and b\n",
    "    W1 = W1 - alpha * dW1\n",
    "    b1 = b1 - alpha * db1\n",
    "    W2 = W2 - alpha * dW2\n",
    "    b2 = b2 - alpha * db2"
   ]
  },
  {
   "cell_type": "code",
   "execution_count": 5,
   "metadata": {},
   "outputs": [
    {
     "name": "stdout",
     "output_type": "stream",
     "text": [
      "Confusion matrix:\n",
      " [[39  1]\n",
      " [ 4 70]]\n",
      "Accuracy: 0.956140350877193\n"
     ]
    }
   ],
   "source": [
    "Z1 = np.dot(W1, testX) + b1\n",
    "A1 = sigmoid(Z1)\n",
    "Z2 = np.dot(W2, A1) + b2\n",
    "A2 = sigmoid(Z2)\n",
    "positive_index = A2>0.5\n",
    "negative_index = A2<=0.5\n",
    "A2[positive_index] = 1\n",
    "A2[negative_index] = 0\n",
    "A2 = A2.astype(int)\n",
    "print(\"Confusion matrix:\\n\", confusion_matrix(A2[0], testY[0]))\n",
    "acc = (confusion_matrix(A2[0], testY[0])[0,0] + confusion_matrix(A2[0], testY[0])[1,1]) / len(A2[0])\n",
    "print(\"Accuracy:\", acc)"
   ]
  }
 ],
 "metadata": {
  "kernelspec": {
   "display_name": "Python 3",
   "language": "python",
   "name": "python3"
  },
  "language_info": {
   "codemirror_mode": {
    "name": "ipython",
    "version": 3
   },
   "file_extension": ".py",
   "mimetype": "text/x-python",
   "name": "python",
   "nbconvert_exporter": "python",
   "pygments_lexer": "ipython3",
   "version": "3.6.8"
  }
 },
 "nbformat": 4,
 "nbformat_minor": 2
}
