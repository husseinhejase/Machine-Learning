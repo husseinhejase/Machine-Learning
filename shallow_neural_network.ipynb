{
 "cells": [
  {
   "cell_type": "code",
   "execution_count": 1,
   "metadata": {
    "collapsed": true
   },
   "outputs": [],
   "source": [
    "import numpy as np\n",
    "from sklearn.datasets import load_breast_cancer\n",
    "from sklearn.model_selection import train_test_split\n",
    "from sklearn.metrics import confusion_matrix"
   ]
  },
  {
   "cell_type": "code",
   "execution_count": 2,
   "metadata": {
    "collapsed": true
   },
   "outputs": [],
   "source": [
    "dataset = load_breast_cancer()\n",
    "X = dataset.data\n",
    "Y = dataset.target\n",
    "nx = np.shape(dataset.data)[1]\n",
    "m = len(dataset.target)\n",
    "trainX, testX, trainY, testY = train_test_split(X, Y, test_size=0.2)\n",
    "trainX = trainX.T\n",
    "testX = testX.T\n",
    "trainY = trainY.reshape((1, len(trainY)))\n",
    "testY = testY.reshape((1, len(testY)))"
   ]
  },
  {
   "cell_type": "code",
   "execution_count": 3,
   "metadata": {},
   "outputs": [
    {
     "name": "stdout",
     "output_type": "stream",
     "text": [
      "Shape of trainX: (30, 455)\n",
      "Shape of testX: (30, 114)\n",
      "Shape of trainY: (1, 455)\n",
      "Shape of testY: (1, 114)\n",
      "Number of features: 30\n"
     ]
    }
   ],
   "source": [
    "print(\"Shape of trainX:\", np.shape(trainX))\n",
    "print(\"Shape of testX:\", np.shape(testX))\n",
    "print(\"Shape of trainY:\", np.shape(trainY))\n",
    "print(\"Shape of testY:\", np.shape(testY))\n",
    "print(\"Number of features:\", nx)"
   ]
  },
  {
   "cell_type": "code",
   "execution_count": 4,
   "metadata": {},
   "outputs": [
    {
     "name": "stdout",
     "output_type": "stream",
     "text": [
      "Shape of w1: (10, 30)\n",
      "Shape of b1: (10, 1)\n",
      "Shape of w2: (1, 10)\n",
      "Shape of b2: (1, 1)\n",
      "Shape of z1: (10, 455)\n",
      "Shape of a1: (10, 455)\n",
      "Shape of z2: (1, 455)\n",
      "Shape of a2: (1, 455)\n",
      "Shape of dz2: (1, 455)\n",
      "Shape of dw2: (1, 10)\n",
      "Shape of db2: (1, 1)\n",
      "Shape of dz1: (10, 455)\n",
      "Shape of dw1: (10, 30)\n",
      "Shape of db1: (10, 1)\n"
     ]
    }
   ],
   "source": [
    "#Standardize features\n",
    "mu = np.mean(trainX, axis=1)\n",
    "sd = np.std(trainX, axis=1)\n",
    "mu = mu.reshape((len(mu), 1))\n",
    "sd = sd.reshape((len(sd), 1))\n",
    "trainX = (trainX - mu) / sd\n",
    "testX = (testX - mu) / sd\n",
    "\n",
    "#Initialize learning rate, hidden nodes, weights, and intercept\n",
    "alpha = 0.1\n",
    "num_hidden_nodes = 10\n",
    "w1 = np.random.random((num_hidden_nodes,nx))*0.1\n",
    "b1 = np.zeros((num_hidden_nodes,1))\n",
    "w2 = np.random.random((1,num_hidden_nodes))*0.1\n",
    "b2 = np.zeros((1,1))\n",
    "print(\"Shape of w1:\", np.shape(w1))\n",
    "print(\"Shape of b1:\", np.shape(b1))\n",
    "print(\"Shape of w2:\", np.shape(w2))\n",
    "print(\"Shape of b2:\", np.shape(b2))\n",
    "\n",
    "nepochs = 1000\n",
    "for step in range(nepochs): \n",
    "    #Forward propagation\n",
    "    z1 = np.dot(w1, trainX) + b1\n",
    "    a1 = 1 / (1 + np.exp(-z1))\n",
    "    z2 = np.dot(w2, a1) + b2\n",
    "    a2 = 1 / (1 + np.exp(-z2))\n",
    "\n",
    "    #Backward propagation\n",
    "    dz2 = a2 - trainY\n",
    "    dw2 = 1/m * np.dot(dz2, a1.T)\n",
    "    db2 = 1/m * np.sum(dz2, axis=1, keepdims=True)\n",
    "    dz1 = np.dot(w2.T,dz2)*(a1*(1-a1))\n",
    "    dw1 = 1/m * np.dot(dz1, trainX.T)\n",
    "    db1 = 1/m * np.sum(dz1, axis=1, keepdims=True)\n",
    "    \n",
    "    if step==nepochs-1:\n",
    "        print(\"Shape of z1:\", np.shape(z1))\n",
    "        print(\"Shape of a1:\", np.shape(a1))\n",
    "        print(\"Shape of z2:\", np.shape(z2))\n",
    "        print(\"Shape of a2:\", np.shape(a2))\n",
    "        print(\"Shape of dz2:\", np.shape(dz2))\n",
    "        print(\"Shape of dw2:\", np.shape(dw2))\n",
    "        print(\"Shape of db2:\", np.shape(db2))\n",
    "        print(\"Shape of dz1:\", np.shape(dz1))\n",
    "        print(\"Shape of dw1:\", np.shape(dw1))\n",
    "        print(\"Shape of db1:\", np.shape(db1))\n",
    "        \n",
    "    w1 = w1 - alpha * dw1\n",
    "    b1 = b1 - alpha * db1\n",
    "    w2 = w2 - alpha * dw2\n",
    "    b2 = b2 - alpha * db2"
   ]
  },
  {
   "cell_type": "code",
   "execution_count": 5,
   "metadata": {},
   "outputs": [
    {
     "name": "stdout",
     "output_type": "stream",
     "text": [
      "Confusion matrix:\n",
      " [[44  1]\n",
      " [ 1 68]]\n",
      "Accuracy: 0.9824561403508771\n"
     ]
    }
   ],
   "source": [
    "z1 = np.dot(w1, testX) + b1\n",
    "a1 = 1 / (1 + np.exp(-z1))\n",
    "z2 = np.dot(w2, a1) + b2\n",
    "a2 = 1 / (1 + np.exp(-z2))\n",
    "positive_index = a2>0.5\n",
    "negative_index = a2<=0.5\n",
    "a2[positive_index] = 1\n",
    "a2[negative_index] = 0\n",
    "a2 = a2.astype(int)\n",
    "print(\"Confusion matrix:\\n\", confusion_matrix(a2[0], testY[0]))\n",
    "acc = (confusion_matrix(a2[0], testY[0])[0,0] + confusion_matrix(a2[0], testY[0])[1,1]) / len(a2[0])\n",
    "print(\"Accuracy:\", acc)"
   ]
  }
 ],
 "metadata": {
  "kernelspec": {
   "display_name": "Python 3",
   "language": "python",
   "name": "python3"
  },
  "language_info": {
   "codemirror_mode": {
    "name": "ipython",
    "version": 3
   },
   "file_extension": ".py",
   "mimetype": "text/x-python",
   "name": "python",
   "nbconvert_exporter": "python",
   "pygments_lexer": "ipython3",
   "version": "3.6.8"
  }
 },
 "nbformat": 4,
 "nbformat_minor": 2
}
